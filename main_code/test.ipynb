{
 "cells": [
  {
   "cell_type": "code",
   "execution_count": 3,
   "metadata": {},
   "outputs": [],
   "source": [
    "from matplotlib.gridspec import GridSpec\n",
    "import matplotlib.pyplot as plt\n",
    "import pytorch_lightning as pl\n",
    "from plTrain import plWrapper \n",
    "import torch"
   ]
  },
  {
   "cell_type": "code",
   "execution_count": 5,
   "metadata": {},
   "outputs": [
    {
     "ename": "FileNotFoundError",
     "evalue": "[Errno 2] No such file or directory: '/export/project/jiaming.liu/Projects/Zihao/RED_MRI/main_code/logs/spec_1_jacobian13:10:24/best_model/best_model.ckpt'",
     "output_type": "error",
     "traceback": [
      "\u001b[0;31m---------------------------------------------------------------------------\u001b[0m",
      "\u001b[0;31mFileNotFoundError\u001b[0m                         Traceback (most recent call last)",
      "\u001b[1;32m/export/project/jiaming.liu/Projects/Zihao/RED_MRI/main_code/test.ipynb Cell 2'\u001b[0m in \u001b[0;36m<module>\u001b[0;34m\u001b[0m\n\u001b[0;32m----> <a href='vscode-notebook-cell://ssh-remote%2Bcigserver2.seas.wustl.edu/export/project/jiaming.liu/Projects/Zihao/RED_MRI/main_code/test.ipynb#ch0000001vscode-remote?line=0'>1</a>\u001b[0m model\u001b[39m=\u001b[39mplWrapper\u001b[39m.\u001b[39;49mload_from_checkpoint(\u001b[39m'\u001b[39;49m\u001b[39mlogs/spec_1_jacobian13:10:24/best_model/best_model.ckpt\u001b[39;49m\u001b[39m'\u001b[39;49m)\n",
      "File \u001b[0;32m/home/jiaming.liu/anaconda3/envs/red/lib/python3.8/site-packages/pytorch_lightning/core/saving.py:134\u001b[0m, in \u001b[0;36mModelIO.load_from_checkpoint\u001b[0;34m(cls, checkpoint_path, map_location, hparams_file, strict, **kwargs)\u001b[0m\n\u001b[1;32m    <a href='file:///home/jiaming.liu/anaconda3/envs/red/lib/python3.8/site-packages/pytorch_lightning/core/saving.py?line=131'>132</a>\u001b[0m         checkpoint \u001b[39m=\u001b[39m pl_load(checkpoint_path, map_location\u001b[39m=\u001b[39mmap_location)\n\u001b[1;32m    <a href='file:///home/jiaming.liu/anaconda3/envs/red/lib/python3.8/site-packages/pytorch_lightning/core/saving.py?line=132'>133</a>\u001b[0m     \u001b[39melse\u001b[39;00m:\n\u001b[0;32m--> <a href='file:///home/jiaming.liu/anaconda3/envs/red/lib/python3.8/site-packages/pytorch_lightning/core/saving.py?line=133'>134</a>\u001b[0m         checkpoint \u001b[39m=\u001b[39m pl_load(checkpoint_path, map_location\u001b[39m=\u001b[39;49m\u001b[39mlambda\u001b[39;49;00m storage, loc: storage)\n\u001b[1;32m    <a href='file:///home/jiaming.liu/anaconda3/envs/red/lib/python3.8/site-packages/pytorch_lightning/core/saving.py?line=135'>136</a>\u001b[0m \u001b[39mif\u001b[39;00m hparams_file \u001b[39mis\u001b[39;00m \u001b[39mnot\u001b[39;00m \u001b[39mNone\u001b[39;00m:\n\u001b[1;32m    <a href='file:///home/jiaming.liu/anaconda3/envs/red/lib/python3.8/site-packages/pytorch_lightning/core/saving.py?line=136'>137</a>\u001b[0m     extension \u001b[39m=\u001b[39m hparams_file\u001b[39m.\u001b[39msplit(\u001b[39m\"\u001b[39m\u001b[39m.\u001b[39m\u001b[39m\"\u001b[39m)[\u001b[39m-\u001b[39m\u001b[39m1\u001b[39m]\n",
      "File \u001b[0;32m/home/jiaming.liu/anaconda3/envs/red/lib/python3.8/site-packages/pytorch_lightning/utilities/cloud_io.py:37\u001b[0m, in \u001b[0;36mload\u001b[0;34m(path_or_url, map_location)\u001b[0m\n\u001b[1;32m     <a href='file:///home/jiaming.liu/anaconda3/envs/red/lib/python3.8/site-packages/pytorch_lightning/utilities/cloud_io.py?line=34'>35</a>\u001b[0m     \u001b[39mreturn\u001b[39;00m torch\u001b[39m.\u001b[39mhub\u001b[39m.\u001b[39mload_state_dict_from_url(\u001b[39mstr\u001b[39m(path_or_url), map_location\u001b[39m=\u001b[39mmap_location)\n\u001b[1;32m     <a href='file:///home/jiaming.liu/anaconda3/envs/red/lib/python3.8/site-packages/pytorch_lightning/utilities/cloud_io.py?line=35'>36</a>\u001b[0m fs \u001b[39m=\u001b[39m get_filesystem(path_or_url)\n\u001b[0;32m---> <a href='file:///home/jiaming.liu/anaconda3/envs/red/lib/python3.8/site-packages/pytorch_lightning/utilities/cloud_io.py?line=36'>37</a>\u001b[0m \u001b[39mwith\u001b[39;00m fs\u001b[39m.\u001b[39;49mopen(path_or_url, \u001b[39m\"\u001b[39;49m\u001b[39mrb\u001b[39;49m\u001b[39m\"\u001b[39;49m) \u001b[39mas\u001b[39;00m f:\n\u001b[1;32m     <a href='file:///home/jiaming.liu/anaconda3/envs/red/lib/python3.8/site-packages/pytorch_lightning/utilities/cloud_io.py?line=37'>38</a>\u001b[0m     \u001b[39mreturn\u001b[39;00m torch\u001b[39m.\u001b[39mload(f, map_location\u001b[39m=\u001b[39mmap_location)\n",
      "File \u001b[0;32m/home/jiaming.liu/anaconda3/envs/red/lib/python3.8/site-packages/fsspec/spec.py:1009\u001b[0m, in \u001b[0;36mAbstractFileSystem.open\u001b[0;34m(self, path, mode, block_size, cache_options, compression, **kwargs)\u001b[0m\n\u001b[1;32m   <a href='file:///home/jiaming.liu/anaconda3/envs/red/lib/python3.8/site-packages/fsspec/spec.py?line=1006'>1007</a>\u001b[0m \u001b[39melse\u001b[39;00m:\n\u001b[1;32m   <a href='file:///home/jiaming.liu/anaconda3/envs/red/lib/python3.8/site-packages/fsspec/spec.py?line=1007'>1008</a>\u001b[0m     ac \u001b[39m=\u001b[39m kwargs\u001b[39m.\u001b[39mpop(\u001b[39m\"\u001b[39m\u001b[39mautocommit\u001b[39m\u001b[39m\"\u001b[39m, \u001b[39mnot\u001b[39;00m \u001b[39mself\u001b[39m\u001b[39m.\u001b[39m_intrans)\n\u001b[0;32m-> <a href='file:///home/jiaming.liu/anaconda3/envs/red/lib/python3.8/site-packages/fsspec/spec.py?line=1008'>1009</a>\u001b[0m     f \u001b[39m=\u001b[39m \u001b[39mself\u001b[39;49m\u001b[39m.\u001b[39;49m_open(\n\u001b[1;32m   <a href='file:///home/jiaming.liu/anaconda3/envs/red/lib/python3.8/site-packages/fsspec/spec.py?line=1009'>1010</a>\u001b[0m         path,\n\u001b[1;32m   <a href='file:///home/jiaming.liu/anaconda3/envs/red/lib/python3.8/site-packages/fsspec/spec.py?line=1010'>1011</a>\u001b[0m         mode\u001b[39m=\u001b[39;49mmode,\n\u001b[1;32m   <a href='file:///home/jiaming.liu/anaconda3/envs/red/lib/python3.8/site-packages/fsspec/spec.py?line=1011'>1012</a>\u001b[0m         block_size\u001b[39m=\u001b[39;49mblock_size,\n\u001b[1;32m   <a href='file:///home/jiaming.liu/anaconda3/envs/red/lib/python3.8/site-packages/fsspec/spec.py?line=1012'>1013</a>\u001b[0m         autocommit\u001b[39m=\u001b[39;49mac,\n\u001b[1;32m   <a href='file:///home/jiaming.liu/anaconda3/envs/red/lib/python3.8/site-packages/fsspec/spec.py?line=1013'>1014</a>\u001b[0m         cache_options\u001b[39m=\u001b[39;49mcache_options,\n\u001b[1;32m   <a href='file:///home/jiaming.liu/anaconda3/envs/red/lib/python3.8/site-packages/fsspec/spec.py?line=1014'>1015</a>\u001b[0m         \u001b[39m*\u001b[39;49m\u001b[39m*\u001b[39;49mkwargs,\n\u001b[1;32m   <a href='file:///home/jiaming.liu/anaconda3/envs/red/lib/python3.8/site-packages/fsspec/spec.py?line=1015'>1016</a>\u001b[0m     )\n\u001b[1;32m   <a href='file:///home/jiaming.liu/anaconda3/envs/red/lib/python3.8/site-packages/fsspec/spec.py?line=1016'>1017</a>\u001b[0m     \u001b[39mif\u001b[39;00m compression \u001b[39mis\u001b[39;00m \u001b[39mnot\u001b[39;00m \u001b[39mNone\u001b[39;00m:\n\u001b[1;32m   <a href='file:///home/jiaming.liu/anaconda3/envs/red/lib/python3.8/site-packages/fsspec/spec.py?line=1017'>1018</a>\u001b[0m         \u001b[39mfrom\u001b[39;00m \u001b[39mfsspec\u001b[39;00m\u001b[39m.\u001b[39;00m\u001b[39mcompression\u001b[39;00m \u001b[39mimport\u001b[39;00m compr\n",
      "File \u001b[0;32m/home/jiaming.liu/anaconda3/envs/red/lib/python3.8/site-packages/fsspec/implementations/local.py:155\u001b[0m, in \u001b[0;36mLocalFileSystem._open\u001b[0;34m(self, path, mode, block_size, **kwargs)\u001b[0m\n\u001b[1;32m    <a href='file:///home/jiaming.liu/anaconda3/envs/red/lib/python3.8/site-packages/fsspec/implementations/local.py?line=152'>153</a>\u001b[0m \u001b[39mif\u001b[39;00m \u001b[39mself\u001b[39m\u001b[39m.\u001b[39mauto_mkdir \u001b[39mand\u001b[39;00m \u001b[39m\"\u001b[39m\u001b[39mw\u001b[39m\u001b[39m\"\u001b[39m \u001b[39min\u001b[39;00m mode:\n\u001b[1;32m    <a href='file:///home/jiaming.liu/anaconda3/envs/red/lib/python3.8/site-packages/fsspec/implementations/local.py?line=153'>154</a>\u001b[0m     \u001b[39mself\u001b[39m\u001b[39m.\u001b[39mmakedirs(\u001b[39mself\u001b[39m\u001b[39m.\u001b[39m_parent(path), exist_ok\u001b[39m=\u001b[39m\u001b[39mTrue\u001b[39;00m)\n\u001b[0;32m--> <a href='file:///home/jiaming.liu/anaconda3/envs/red/lib/python3.8/site-packages/fsspec/implementations/local.py?line=154'>155</a>\u001b[0m \u001b[39mreturn\u001b[39;00m LocalFileOpener(path, mode, fs\u001b[39m=\u001b[39;49m\u001b[39mself\u001b[39;49m, \u001b[39m*\u001b[39;49m\u001b[39m*\u001b[39;49mkwargs)\n",
      "File \u001b[0;32m/home/jiaming.liu/anaconda3/envs/red/lib/python3.8/site-packages/fsspec/implementations/local.py:250\u001b[0m, in \u001b[0;36mLocalFileOpener.__init__\u001b[0;34m(self, path, mode, autocommit, fs, compression, **kwargs)\u001b[0m\n\u001b[1;32m    <a href='file:///home/jiaming.liu/anaconda3/envs/red/lib/python3.8/site-packages/fsspec/implementations/local.py?line=247'>248</a>\u001b[0m \u001b[39mself\u001b[39m\u001b[39m.\u001b[39mcompression \u001b[39m=\u001b[39m get_compression(path, compression)\n\u001b[1;32m    <a href='file:///home/jiaming.liu/anaconda3/envs/red/lib/python3.8/site-packages/fsspec/implementations/local.py?line=248'>249</a>\u001b[0m \u001b[39mself\u001b[39m\u001b[39m.\u001b[39mblocksize \u001b[39m=\u001b[39m io\u001b[39m.\u001b[39mDEFAULT_BUFFER_SIZE\n\u001b[0;32m--> <a href='file:///home/jiaming.liu/anaconda3/envs/red/lib/python3.8/site-packages/fsspec/implementations/local.py?line=249'>250</a>\u001b[0m \u001b[39mself\u001b[39;49m\u001b[39m.\u001b[39;49m_open()\n",
      "File \u001b[0;32m/home/jiaming.liu/anaconda3/envs/red/lib/python3.8/site-packages/fsspec/implementations/local.py:255\u001b[0m, in \u001b[0;36mLocalFileOpener._open\u001b[0;34m(self)\u001b[0m\n\u001b[1;32m    <a href='file:///home/jiaming.liu/anaconda3/envs/red/lib/python3.8/site-packages/fsspec/implementations/local.py?line=252'>253</a>\u001b[0m \u001b[39mif\u001b[39;00m \u001b[39mself\u001b[39m\u001b[39m.\u001b[39mf \u001b[39mis\u001b[39;00m \u001b[39mNone\u001b[39;00m \u001b[39mor\u001b[39;00m \u001b[39mself\u001b[39m\u001b[39m.\u001b[39mf\u001b[39m.\u001b[39mclosed:\n\u001b[1;32m    <a href='file:///home/jiaming.liu/anaconda3/envs/red/lib/python3.8/site-packages/fsspec/implementations/local.py?line=253'>254</a>\u001b[0m     \u001b[39mif\u001b[39;00m \u001b[39mself\u001b[39m\u001b[39m.\u001b[39mautocommit \u001b[39mor\u001b[39;00m \u001b[39m\"\u001b[39m\u001b[39mw\u001b[39m\u001b[39m\"\u001b[39m \u001b[39mnot\u001b[39;00m \u001b[39min\u001b[39;00m \u001b[39mself\u001b[39m\u001b[39m.\u001b[39mmode:\n\u001b[0;32m--> <a href='file:///home/jiaming.liu/anaconda3/envs/red/lib/python3.8/site-packages/fsspec/implementations/local.py?line=254'>255</a>\u001b[0m         \u001b[39mself\u001b[39m\u001b[39m.\u001b[39mf \u001b[39m=\u001b[39m \u001b[39mopen\u001b[39;49m(\u001b[39mself\u001b[39;49m\u001b[39m.\u001b[39;49mpath, mode\u001b[39m=\u001b[39;49m\u001b[39mself\u001b[39;49m\u001b[39m.\u001b[39;49mmode)\n\u001b[1;32m    <a href='file:///home/jiaming.liu/anaconda3/envs/red/lib/python3.8/site-packages/fsspec/implementations/local.py?line=255'>256</a>\u001b[0m         \u001b[39mif\u001b[39;00m \u001b[39mself\u001b[39m\u001b[39m.\u001b[39mcompression:\n\u001b[1;32m    <a href='file:///home/jiaming.liu/anaconda3/envs/red/lib/python3.8/site-packages/fsspec/implementations/local.py?line=256'>257</a>\u001b[0m             compress \u001b[39m=\u001b[39m compr[\u001b[39mself\u001b[39m\u001b[39m.\u001b[39mcompression]\n",
      "\u001b[0;31mFileNotFoundError\u001b[0m: [Errno 2] No such file or directory: '/export/project/jiaming.liu/Projects/Zihao/RED_MRI/main_code/logs/spec_1_jacobian13:10:24/best_model/best_model.ckpt'"
     ]
    }
   ],
   "source": [
    "model=plWrapper.load_from_checkpoint('logs/spec_1_jacobian13:10:24/best_model/best_model.ckpt')"
   ]
  },
  {
   "cell_type": "code",
   "execution_count": 25,
   "metadata": {},
   "outputs": [],
   "source": [
    "torch.save(model.jacob.state_dict(), 'conv5.pt',\n",
    "           _use_new_zipfile_serialization=False)\n"
   ]
  },
  {
   "cell_type": "code",
   "execution_count": null,
   "metadata": {},
   "outputs": [],
   "source": []
  }
 ],
 "metadata": {
  "interpreter": {
   "hash": "707b6c314b9042cc11337983bf68387e873b4fd4b337f68f070d32912f60fb24"
  },
  "kernelspec": {
   "display_name": "Python 3.8.12 ('red')",
   "language": "python",
   "name": "python3"
  },
  "language_info": {
   "codemirror_mode": {
    "name": "ipython",
    "version": 3
   },
   "file_extension": ".py",
   "mimetype": "text/x-python",
   "name": "python",
   "nbconvert_exporter": "python",
   "pygments_lexer": "ipython3",
   "version": "3.8.12"
  },
  "orig_nbformat": 4
 },
 "nbformat": 4,
 "nbformat_minor": 2
}
