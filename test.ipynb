{
 "cells": [
  {
   "cell_type": "code",
   "execution_count": 8,
   "metadata": {},
   "outputs": [],
   "source": [
    "from matplotlib.gridspec import GridSpec\n",
    "import matplotlib.pyplot as plt\n"
   ]
  },
  {
   "cell_type": "code",
   "execution_count": 19,
   "metadata": {},
   "outputs": [
    {
     "data": {
      "text/plain": [
       "' sub00 = fig.add_subplot(gs[0, 2])\\nsub01 = fig.add_subplot(gs[1, 2])\\nmain1 = fig.add_subplot(gs[:, 3:5])\\nsub10 = fig.add_subplot(gs[0, 5])\\nsub11 = fig.add_subplot(gs[1, 5])\\nmain2 = fig.add_subplot(gs[:, 6:8])\\nsub20 = fig.add_subplot(gs[0, 8])\\nsub21 = fig.add_subplot(gs[1, 8])\\n '"
      ]
     },
     "execution_count": 19,
     "metadata": {},
     "output_type": "execute_result"
    },
    {
     "data": {
      "image/png": "[encoded data removed]",
      "text/plain": [
       "<Figure size 432x288 with 9 Axes>"
      ]
     },
     "metadata": {
      "needs_background": "light"
     },
     "output_type": "display_data"
    }
   ],
   "source": [
    "fig = plt.figure(constrained_layout=True)\n",
    "subfigs=fig.subfigures(1,3)\n",
    "gs0 = GridSpec(nrows=2, ncols=3, figure=subfigs[0])\n",
    "main0 = subfigs[0].add_subplot(gs0[:, 0:2])\n",
    "sub00 = subfigs[0].add_subplot(gs0[0, 2])\n",
    "sub01 = subfigs[0].add_subplot(gs0[1, 2])\n",
    "gs1 = GridSpec(nrows=2, ncols=3, figure=subfigs[1])\n",
    "main1 = subfigs[1].add_subplot(gs1[:, 0:2])\n",
    "sub10 = subfigs[1].add_subplot(gs1[0, 2])\n",
    "sub11 = subfigs[1].add_subplot(gs1[1, 2])\n",
    "gs2 = GridSpec(nrows=2, ncols=3, figure=subfigs[2])\n",
    "main2 = subfigs[2].add_subplot(gs2[:, 0:2])\n",
    "sub20 = subfigs[2].add_subplot(gs2[0, 2])\n",
    "sub21 = subfigs[2].add_subplot(gs2[1, 2])\n",
    "for sf in subfigs:\n",
    "    for ax in sf.axes:\n",
    "        ax.set_axis_off()\n",
    "#main0.set_axis_off()\n",
    "#main0.text(0.5, 0.5, \"ax\", va=\"center\", ha=\"center\")\n",
    "\"\"\" sub00 = fig.add_subplot(gs[0, 2])\n",
    "sub01 = fig.add_subplot(gs[1, 2])\n",
    "main1 = fig.add_subplot(gs[:, 3:5])\n",
    "sub10 = fig.add_subplot(gs[0, 5])\n",
    "sub11 = fig.add_subplot(gs[1, 5])\n",
    "main2 = fig.add_subplot(gs[:, 6:8])\n",
    "sub20 = fig.add_subplot(gs[0, 8])\n",
    "sub21 = fig.add_subplot(gs[1, 8])\n",
    " \"\"\""
   ]
  },
  {
   "cell_type": "code",
   "execution_count": null,
   "metadata": {},
   "outputs": [],
   "source": []
  }
 ],
 "metadata": {
  "interpreter": {
   "hash": "707b6c314b9042cc11337983bf68387e873b4fd4b337f68f070d32912f60fb24"
  },
  "kernelspec": {
   "display_name": "Python 3.8.12 ('red')",
   "language": "python",
   "name": "python3"
  },
  "language_info": {
   "codemirror_mode": {
    "name": "ipython",
    "version": 3
   },
   "file_extension": ".py",
   "mimetype": "text/x-python",
   "name": "python",
   "nbconvert_exporter": "python",
   "pygments_lexer": "ipython3",
   "version": "3.8.12"
  },
  "orig_nbformat": 4
 },
 "nbformat": 4,
 "nbformat_minor": 2
}
